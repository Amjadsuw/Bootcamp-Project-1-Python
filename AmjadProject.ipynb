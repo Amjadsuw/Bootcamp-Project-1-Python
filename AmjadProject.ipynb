{
 "cells": [
  {
   "cell_type": "code",
   "execution_count": null,
   "id": "f16167f1",
   "metadata": {},
   "outputs": [
    {
     "name": "stdout",
     "output_type": "stream",
     "text": [
      "Enter a password: \n"
     ]
    }
   ],
   "source": [
    "import random\n",
    "\n",
    "def generate_password(length=8):\n",
    "  characters = \"abcdefghijklmnopqrstuvwxyzABCDEFGHIJKLMNOPQRSTUVWXYZ0123456789\"\n",
    "  return \"\".join(random.choices(characters, k=length))\n",
    "\n",
    "\n",
    "def is_strong_password(password):\n",
    "  if len(password) < 8:\n",
    "    return False\n",
    "\n",
    "  has_uppercase = lambda c: c.isupper()\n",
    "  has_lowercase = lambda c: c.islower()\n",
    "  has_digit = lambda c: c.isdigit()\n",
    "  has_special_character = lambda c: not c.isalnum()\n",
    "\n",
    "  return any(has_uppercase(c) for c in password) and any(has_lowercase(c) for c in password) and any(has_digit(c) for c in password) and any(has_special_character(c) for c in password)\n",
    "\n",
    "\n",
    "def is_banned_password(password, banned_passwords):\n",
    "  return password in banned_passwords\n",
    "\n",
    "\n",
    "def get_user_input(prompt):\n",
    "  print(prompt)\n",
    "  return input()\n",
    "\n",
    "\n",
    "def display_results(password, is_strong, is_banned):\n",
    "  if is_strong:\n",
    "    print(\"The password is strong.\")\n",
    "    print(\"suggest , your password will be more stronger with !&, like : \", password + \"!&\")\n",
    "  else:\n",
    "    print(\"The password is not strong.\")\n",
    "\n",
    "  if is_banned:\n",
    "    print(\"The password is in a list of banned passwords.\")\n",
    "  else:\n",
    "    print(\"The password is not in a list of banned passwords.\")\n",
    "\n",
    "\n",
    "password = get_user_input(\"Enter a password: \")\n",
    "\n",
    "is_strong = is_strong_password(password)\n",
    "\n",
    "banned_passwords = [\"password\", \"123456789\", \"qwerty\"]\n",
    "\n",
    "is_banned = is_banned_password(password, banned_passwords)\n",
    "\n",
    "print(\"your password is : \",password)\n",
    "\n",
    "display_results(password, is_strong, is_banned)\n"
   ]
  },
  {
   "cell_type": "code",
   "execution_count": null,
   "id": "7441df8c",
   "metadata": {},
   "outputs": [],
   "source": []
  },
  {
   "cell_type": "code",
   "execution_count": null,
   "id": "09169b3b",
   "metadata": {},
   "outputs": [],
   "source": []
  }
 ],
 "metadata": {
  "kernelspec": {
   "display_name": "Python 3 (ipykernel)",
   "language": "python",
   "name": "python3"
  },
  "language_info": {
   "codemirror_mode": {
    "name": "ipython",
    "version": 3
   },
   "file_extension": ".py",
   "mimetype": "text/x-python",
   "name": "python",
   "nbconvert_exporter": "python",
   "pygments_lexer": "ipython3",
   "version": "3.10.9"
  }
 },
 "nbformat": 4,
 "nbformat_minor": 5
}
